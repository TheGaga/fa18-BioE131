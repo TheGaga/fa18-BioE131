{
 "cells": [
  {
   "cell_type": "code",
   "execution_count": null,
   "metadata": {},
   "outputs": [],
   "source": []
  },
  {
   "cell_type": "markdown",
   "metadata": {},
   "source": [
    "### Summary of the Terminal commands used ###\n",
    "\n",
    "__mkdir lab02__: make directory named lab02  \n",
    "__cd lab02__: change directory to new lab02 directory  \n",
    "__mkdir src__: make directory src (source code)  \n",
    "__mkdir data__: make directory data (to store data)  \n",
    "__cd data__: enter data directory  \n",
    "#### used jupyter notebook to upload seqs.fasta####\n",
    "__muscle -in seqs.fa -out seqs.aligned.fa__ : call muscle command given seqs.fa as input; output the aligned version of the sequences as seqs.aligned.fa  \n",
    "__more seqs.fa__ & __more seqs.aligned.fa__ : 2 separate commands to view differences between input and output files  \n",
    "__fasttree –nt seqs.aligned.fa > tree.nwk__ : generate a newick-formatted tree\n",
    " \n"
   ]
  },
  {
   "cell_type": "code",
   "execution_count": null,
   "metadata": {},
   "outputs": [],
   "source": [
    "from Bio import Phylo\n",
    "from io import StringIO\n",
    "import matplotlib.pyplot as plt\n",
    "import matplotlib as mpl\n",
    "import numpy as np\n",
    "import pandas as pd\n",
    "%matplotlib inline\n",
    "\n",
    "# read in the tree object\n",
    "tree = Phylo.read(\"tree.nwk\", \"newick\")\n",
    "# set the font size and figure size\n",
    "mpl.rcParams.update({'font.size': 15})\n",
    "plt.rcParams['figure.figsize'] = [60, 40]\n",
    "#plot the graph\n",
    "Phylo.draw(tree)\n"
   ]
  },
  {
   "cell_type": "code",
   "execution_count": null,
   "metadata": {},
   "outputs": [],
   "source": [
    "from Bio import SeqIO\n",
    "my_seqs = [];\n",
    "obvious_clusters = [\"pi.3\", \"bb.2\", \"hu.40\", \"cy.6\", \"rh.36\", \"rh.51\", \"rh.48\", \"hu.48\", \"hu.31\"];\n",
    "for seq in SeqIO.parse(\"seqs.fa\", \"fasta\"):\n",
    "    if seq.id in obvious_clusters:\n",
    "        my_seqs.append(seq)\n",
    "for seq in my_seqs:\n",
    "    print(seq.id + \":\")\n",
    "    print(seq.seq)\n",
    "        "
   ]
  },
  {
   "cell_type": "markdown",
   "metadata": {},
   "source": [
    "__BLAST__  \n",
    "\n",
    "bb.2 : Non-human primate Adeno-associated virus isolate AAVbb.2 capsid protein (VP1) gene, complete cds   \n",
    "\n",
    "cy.6 : Non-human primate Adeno-associated virus isolate AAVcy.6 capsid protein (VP1) gene, complete cds  \n",
    "\n",
    "hu.31:Adeno-associated virus isolate hu.31 capsid protein VP1 (cap) gene, complete cds  \n",
    "\n",
    "hu.40: Adeno-associated virus isolate hu.40 capsid protein VP1 (cap) gene, complete cds  \n",
    "\n",
    "hu.48: Adeno-associated virus isolate hu.48 capsid protein VP1 (cap) gene, complete cds  \n",
    "\n",
    "pi.3:  Adeno-associated virus isolate pi.3 capsid protein VP1 (cap) gene, complete cds  \n",
    "\n",
    "rh.36: Non-human primate Adeno-associated virus isolate AAVrh.36 capsid protein (VP1) gene, complete cds  \n",
    "\n",
    "rh.48: Adeno-associated virus isolate rh.48 capsid protein VP1 (cap) gene, complete cds  \n",
    "\n",
    "rh.51: Adeno-associated virus isolate rh.51 capsid protein VP1 (cap) gene, complete cds  \n",
    "\n",
    "__What are some of the most common matches for each cluster? Write them down in your lab notebook. Do they all match the same gene? Are there any that definitely do not match the others? Why might we not trust the annotations for sequences that come up in our BLAST?__  \n",
    "\n",
    "The most common match for each cluster follows the same format as those listed above, with some variation in the particular capsid proteins isolated. They all seem to match the VP1 gene. As mentioned in lecture, it's important to note that a lot of databases are inherently biased in the information they store, based on the historical trends in the gathering and publishing of data.\n",
    "\n"
   ]
  },
  {
   "cell_type": "code",
   "execution_count": 46,
   "metadata": {},
   "outputs": [
    {
     "data": {
      "image/png": "[encoded data removed]",
      "text/plain": [
       "<Figure size 432x288 with 1 Axes>"
      ]
     },
     "metadata": {},
     "output_type": "display_data"
    }
   ],
   "source": [
    "from Bio import SeqIO\n",
    "from Bio.Align import MultipleSeqAlignment\n",
    "from Bio.SeqRecord import SeqRecord\n",
    "from Bio import Phylo\n",
    "from io import StringIO\n",
    "import matplotlib.pyplot as plt\n",
    "import matplotlib as mpl\n",
    "import numpy as np\n",
    "import pandas as pd\n",
    "cluster1 = [\"rh.40\", \"hu.67\", \"hu.40\", \"hu.37\", \"hu.66\", \"hu.38\", \"hu.41\", \"hu.42\"]\n",
    "cluster2 = [\"rh.10\", \"bb.1\", \"hu.6\", \"bb.2\", \"hu.17\", \"rh.2\"]\n",
    "cluster3 = [\"pi.2\", \"pi.3\", \"pi.1\"]\n",
    "cluster4 = [\"hu.39\", \"rh.50\", \"rh.51\", \"rh.49\", \"rh.57\", \"rh.61\", \"rh.64\", \"rh.58\", \"rh.53\"]\n",
    "cluster5 = [\"cy.6\", \"cy.3\", \"cy.4\", \"cy.5\", \"rh.13\"]\n",
    "cluster6 = [\"rh.35\", \"rh.36\", \"rh.37\"]\n",
    "cluster7 = [\"rh.48\", \"rh.55\", \"rh.62\"]\n",
    "cluster8 = [\"hu.14\", \"hu.31\", \"hu.38\"]\n",
    "def clusterseq_maker(cluster):\n",
    "    my_seqs =[];\n",
    "    for seq in SeqIO.parse(\"seqs.fa\", \"fasta\"):\n",
    "        if seq.id in cluster:\n",
    "            my_seqs.append(SeqRecord(seq.seq))\n",
    "    return my_seqs\n",
    "\n",
    "cluster1seqs =clusterseq_maker(cluster1)\n",
    "cluster2seqs=clusterseq_maker(cluster2)\n",
    "cluster3seqs=clusterseq_maker(cluster3)\n",
    "cluster4seqs= clusterseq_maker(cluster4)\n",
    "cluster5seqs =clusterseq_maker(cluster5)\n",
    "cluster6seqs =clusterseq_maker(cluster6)\n",
    "cluster7seqs =clusterseq_maker(cluster7)\n",
    "cluster8seqs =clusterseq_maker(cluster8)\n",
    "\n",
    "def msa_maker(clusterseqs):\n",
    "    return MultipleSeqAlignment(clusterseqs)\n",
    "\n",
    "msa1 = msa_maker(cluster1seqs)\n",
    "msa2 = msa_maker(cluster2seqs)\n",
    "msa3 = msa_maker(cluster3seqs)\n",
    "msa4= msa_maker(cluster4seqs)\n",
    "msa5 = msa_maker(cluster5seqs)\n",
    "msa6 = msa_maker(cluster6seqs)\n",
    "msa7 = msa_maker(cluster7seqs)\n",
    "msa8 = msa_maker(cluster8seqs)\n",
    "\n",
    "\n",
    "def atgc_counter(msa):\n",
    "    atcount= []\n",
    "    gccount=[]\n",
    "    i = 0\n",
    "    while i< len(msa[0]):\n",
    "        atcount.append(0)\n",
    "        gccount.append(0)\n",
    "        i +=1;\n",
    "    i = 0;\n",
    "    while i < len(msa[0]):\n",
    "        curr = msa[:,i]\n",
    "        for letter in curr:\n",
    "            if letter == \"a\" or letter == \"t\":\n",
    "                atcount[i] +=1\n",
    "            else:\n",
    "                gccount[i] +=1\n",
    "        i +=1\n",
    "    i=0;\n",
    "    while i < len(msa[0]):\n",
    "        atcount[i] = atcount[i]/len(msa)\n",
    "        gccount[i]= gccount[i]/len(msa)\n",
    "        gccount[i] *= -1\n",
    "        i += 1\n",
    "    return atcount, gccount;\n",
    "\n",
    "at1,gc1 = atgc_counter(msa1)\n",
    "at2,gc2 = atgc_counter(msa2)\n",
    "at3,gc3 = atgc_counter(msa3)\n",
    "at4,gc4 = atgc_counter(msa4)\n",
    "at5,gc5 = atgc_counter(msa5)\n",
    "at6,gc6 =atgc_counter(msa6)\n",
    "at7,gc7 = atgc_counter(msa7)\n",
    "at8,gc8 = atgc_counter(msa8)\n",
    "\n",
    "xvals=[]\n",
    "i = 0\n",
    "while i< len(msa1[0]):\n",
    "    xvals.append(i)\n",
    "    i += 1\n",
    "\n",
    "xtemp = [1,2,3,4,5,6,7,8,9,10]\n",
    "fig1 = plt.figure()\n",
    "ax = fig1.add_subplot(111)\n",
    "bar1 = ax.bar(height=at1, x= xvals)\n",
    "bar2 = ax.bar(height= gc1, x= xvals, bottom = 1)\n",
    "\n",
    "\n",
    "# bar2 = plt.bar(height=at2, x= xvals)\n",
    "# #bar3 = plt.bar(height=at3, x= xvals)\n",
    "# bar4 = plt.bar(height=at4, x= xvals)\n",
    "# #bar5 = plt.bar(height=at5, x= xvals)\n",
    "# # bar6 = plt.bar(height=at6, x= xvals)\n",
    "# # bar7 = plt.bar(height=at7, x= xvals)\n",
    "# # bar8 = plt.bar(height=at8, x= xvals)\n"
   ]
  },
  {
   "cell_type": "code",
   "execution_count": 48,
   "metadata": {},
   "outputs": [
    {
     "data": {
      "text/plain": [
       "<BarContainer object of 2217 artists>"
      ]
     },
     "execution_count": 48,
     "metadata": {},
     "output_type": "execute_result"
    },
    {
     "data": {
      "image/png": "[encoded data removed]",
      "text/plain": [
       "<Figure size 432x288 with 1 Axes>"
      ]
     },
     "metadata": {},
     "output_type": "display_data"
    }
   ],
   "source": [
    "from Bio import SeqIO\n",
    "from Bio.Align import MultipleSeqAlignment\n",
    "from Bio.SeqRecord import SeqRecord\n",
    "from Bio import Phylo\n",
    "from io import StringIO\n",
    "import matplotlib.pyplot as plt\n",
    "import matplotlib as mpl\n",
    "import numpy as np\n",
    "import pandas as pd\n",
    "fig2= plt.bar(height= at2, x= xvals)\n",
    "plt.bar(height= gc2, x= xvals, bottom = 1)"
   ]
  },
  {
   "cell_type": "code",
   "execution_count": 49,
   "metadata": {},
   "outputs": [
    {
     "ename": "ValueError",
     "evalue": "shape mismatch: objects cannot be broadcast to a single shape",
     "output_type": "error",
     "traceback": [
      "\u001b[1;31m---------------------------------------------------------------------------\u001b[0m",
      "\u001b[1;31mValueError\u001b[0m                                Traceback (most recent call last)",
      "\u001b[1;32m<ipython-input-49-aa3daf97c22c>\u001b[0m in \u001b[0;36m<module>\u001b[1;34m()\u001b[0m\n\u001b[0;32m      8\u001b[0m \u001b[1;32mimport\u001b[0m \u001b[0mnumpy\u001b[0m \u001b[1;32mas\u001b[0m \u001b[0mnp\u001b[0m\u001b[1;33m\u001b[0m\u001b[0m\n\u001b[0;32m      9\u001b[0m \u001b[1;32mimport\u001b[0m \u001b[0mpandas\u001b[0m \u001b[1;32mas\u001b[0m \u001b[0mpd\u001b[0m\u001b[1;33m\u001b[0m\u001b[0m\n\u001b[1;32m---> 10\u001b[1;33m \u001b[0mfig3\u001b[0m\u001b[1;33m=\u001b[0m \u001b[0mplt\u001b[0m\u001b[1;33m.\u001b[0m\u001b[0mbar\u001b[0m\u001b[1;33m(\u001b[0m\u001b[0mheight\u001b[0m\u001b[1;33m=\u001b[0m \u001b[0mat3\u001b[0m\u001b[1;33m,\u001b[0m \u001b[0mx\u001b[0m\u001b[1;33m=\u001b[0m \u001b[0mxvals\u001b[0m\u001b[1;33m)\u001b[0m\u001b[1;33m\u001b[0m\u001b[0m\n\u001b[0m\u001b[0;32m     11\u001b[0m \u001b[0mplt\u001b[0m\u001b[1;33m.\u001b[0m\u001b[0mbar\u001b[0m\u001b[1;33m(\u001b[0m\u001b[0mheight\u001b[0m\u001b[1;33m=\u001b[0m \u001b[0mgc3\u001b[0m\u001b[1;33m,\u001b[0m \u001b[0mx\u001b[0m\u001b[1;33m=\u001b[0m \u001b[0mxvals\u001b[0m\u001b[1;33m,\u001b[0m \u001b[0mbottom\u001b[0m \u001b[1;33m=\u001b[0m \u001b[1;36m1\u001b[0m\u001b[1;33m)\u001b[0m\u001b[1;33m\u001b[0m\u001b[0m\n",
      "\u001b[1;32mC:\\ProgramFiles\\Anaconda3\\lib\\site-packages\\matplotlib\\pyplot.py\u001b[0m in \u001b[0;36mbar\u001b[1;34m(*args, **kwargs)\u001b[0m\n\u001b[0;32m   2768\u001b[0m                       mplDeprecation)\n\u001b[0;32m   2769\u001b[0m     \u001b[1;32mtry\u001b[0m\u001b[1;33m:\u001b[0m\u001b[1;33m\u001b[0m\u001b[0m\n\u001b[1;32m-> 2770\u001b[1;33m         \u001b[0mret\u001b[0m \u001b[1;33m=\u001b[0m \u001b[0max\u001b[0m\u001b[1;33m.\u001b[0m\u001b[0mbar\u001b[0m\u001b[1;33m(\u001b[0m\u001b[1;33m*\u001b[0m\u001b[0margs\u001b[0m\u001b[1;33m,\u001b[0m \u001b[1;33m**\u001b[0m\u001b[0mkwargs\u001b[0m\u001b[1;33m)\u001b[0m\u001b[1;33m\u001b[0m\u001b[0m\n\u001b[0m\u001b[0;32m   2771\u001b[0m     \u001b[1;32mfinally\u001b[0m\u001b[1;33m:\u001b[0m\u001b[1;33m\u001b[0m\u001b[0m\n\u001b[0;32m   2772\u001b[0m         \u001b[0max\u001b[0m\u001b[1;33m.\u001b[0m\u001b[0m_hold\u001b[0m \u001b[1;33m=\u001b[0m \u001b[0mwashold\u001b[0m\u001b[1;33m\u001b[0m\u001b[0m\n",
      "\u001b[1;32mC:\\ProgramFiles\\Anaconda3\\lib\\site-packages\\matplotlib\\__init__.py\u001b[0m in \u001b[0;36minner\u001b[1;34m(ax, *args, **kwargs)\u001b[0m\n\u001b[0;32m   1853\u001b[0m                         \u001b[1;34m\"the Matplotlib list!)\"\u001b[0m \u001b[1;33m%\u001b[0m \u001b[1;33m(\u001b[0m\u001b[0mlabel_namer\u001b[0m\u001b[1;33m,\u001b[0m \u001b[0mfunc\u001b[0m\u001b[1;33m.\u001b[0m\u001b[0m__name__\u001b[0m\u001b[1;33m)\u001b[0m\u001b[1;33m,\u001b[0m\u001b[1;33m\u001b[0m\u001b[0m\n\u001b[0;32m   1854\u001b[0m                         RuntimeWarning, stacklevel=2)\n\u001b[1;32m-> 1855\u001b[1;33m             \u001b[1;32mreturn\u001b[0m \u001b[0mfunc\u001b[0m\u001b[1;33m(\u001b[0m\u001b[0max\u001b[0m\u001b[1;33m,\u001b[0m \u001b[1;33m*\u001b[0m\u001b[0margs\u001b[0m\u001b[1;33m,\u001b[0m \u001b[1;33m**\u001b[0m\u001b[0mkwargs\u001b[0m\u001b[1;33m)\u001b[0m\u001b[1;33m\u001b[0m\u001b[0m\n\u001b[0m\u001b[0;32m   1856\u001b[0m \u001b[1;33m\u001b[0m\u001b[0m\n\u001b[0;32m   1857\u001b[0m         inner.__doc__ = _add_data_doc(inner.__doc__,\n",
      "\u001b[1;32mC:\\ProgramFiles\\Anaconda3\\lib\\site-packages\\matplotlib\\axes\\_axes.py\u001b[0m in \u001b[0;36mbar\u001b[1;34m(self, *args, **kwargs)\u001b[0m\n\u001b[0;32m   2231\u001b[0m         x, height, width, y, linewidth = np.broadcast_arrays(\n\u001b[0;32m   2232\u001b[0m             \u001b[1;31m# Make args iterable too.\u001b[0m\u001b[1;33m\u001b[0m\u001b[1;33m\u001b[0m\u001b[0m\n\u001b[1;32m-> 2233\u001b[1;33m             np.atleast_1d(x), height, width, y, linewidth)\n\u001b[0m\u001b[0;32m   2234\u001b[0m \u001b[1;33m\u001b[0m\u001b[0m\n\u001b[0;32m   2235\u001b[0m         \u001b[1;31m# Now that units have been converted, set the tick locations.\u001b[0m\u001b[1;33m\u001b[0m\u001b[1;33m\u001b[0m\u001b[0m\n",
      "\u001b[1;32mC:\\ProgramFiles\\Anaconda3\\lib\\site-packages\\numpy\\lib\\stride_tricks.py\u001b[0m in \u001b[0;36mbroadcast_arrays\u001b[1;34m(*args, **kwargs)\u001b[0m\n\u001b[0;32m    247\u001b[0m     \u001b[0margs\u001b[0m \u001b[1;33m=\u001b[0m \u001b[1;33m[\u001b[0m\u001b[0mnp\u001b[0m\u001b[1;33m.\u001b[0m\u001b[0marray\u001b[0m\u001b[1;33m(\u001b[0m\u001b[0m_m\u001b[0m\u001b[1;33m,\u001b[0m \u001b[0mcopy\u001b[0m\u001b[1;33m=\u001b[0m\u001b[1;32mFalse\u001b[0m\u001b[1;33m,\u001b[0m \u001b[0msubok\u001b[0m\u001b[1;33m=\u001b[0m\u001b[0msubok\u001b[0m\u001b[1;33m)\u001b[0m \u001b[1;32mfor\u001b[0m \u001b[0m_m\u001b[0m \u001b[1;32min\u001b[0m \u001b[0margs\u001b[0m\u001b[1;33m]\u001b[0m\u001b[1;33m\u001b[0m\u001b[0m\n\u001b[0;32m    248\u001b[0m \u001b[1;33m\u001b[0m\u001b[0m\n\u001b[1;32m--> 249\u001b[1;33m     \u001b[0mshape\u001b[0m \u001b[1;33m=\u001b[0m \u001b[0m_broadcast_shape\u001b[0m\u001b[1;33m(\u001b[0m\u001b[1;33m*\u001b[0m\u001b[0margs\u001b[0m\u001b[1;33m)\u001b[0m\u001b[1;33m\u001b[0m\u001b[0m\n\u001b[0m\u001b[0;32m    250\u001b[0m \u001b[1;33m\u001b[0m\u001b[0m\n\u001b[0;32m    251\u001b[0m     \u001b[1;32mif\u001b[0m \u001b[0mall\u001b[0m\u001b[1;33m(\u001b[0m\u001b[0marray\u001b[0m\u001b[1;33m.\u001b[0m\u001b[0mshape\u001b[0m \u001b[1;33m==\u001b[0m \u001b[0mshape\u001b[0m \u001b[1;32mfor\u001b[0m \u001b[0marray\u001b[0m \u001b[1;32min\u001b[0m \u001b[0margs\u001b[0m\u001b[1;33m)\u001b[0m\u001b[1;33m:\u001b[0m\u001b[1;33m\u001b[0m\u001b[0m\n",
      "\u001b[1;32mC:\\ProgramFiles\\Anaconda3\\lib\\site-packages\\numpy\\lib\\stride_tricks.py\u001b[0m in \u001b[0;36m_broadcast_shape\u001b[1;34m(*args)\u001b[0m\n\u001b[0;32m    182\u001b[0m     \u001b[1;31m# use the old-iterator because np.nditer does not handle size 0 arrays\u001b[0m\u001b[1;33m\u001b[0m\u001b[1;33m\u001b[0m\u001b[0m\n\u001b[0;32m    183\u001b[0m     \u001b[1;31m# consistently\u001b[0m\u001b[1;33m\u001b[0m\u001b[1;33m\u001b[0m\u001b[0m\n\u001b[1;32m--> 184\u001b[1;33m     \u001b[0mb\u001b[0m \u001b[1;33m=\u001b[0m \u001b[0mnp\u001b[0m\u001b[1;33m.\u001b[0m\u001b[0mbroadcast\u001b[0m\u001b[1;33m(\u001b[0m\u001b[1;33m*\u001b[0m\u001b[0margs\u001b[0m\u001b[1;33m[\u001b[0m\u001b[1;33m:\u001b[0m\u001b[1;36m32\u001b[0m\u001b[1;33m]\u001b[0m\u001b[1;33m)\u001b[0m\u001b[1;33m\u001b[0m\u001b[0m\n\u001b[0m\u001b[0;32m    185\u001b[0m     \u001b[1;31m# unfortunately, it cannot handle 32 or more arguments directly\u001b[0m\u001b[1;33m\u001b[0m\u001b[1;33m\u001b[0m\u001b[0m\n\u001b[0;32m    186\u001b[0m     \u001b[1;32mfor\u001b[0m \u001b[0mpos\u001b[0m \u001b[1;32min\u001b[0m \u001b[0mrange\u001b[0m\u001b[1;33m(\u001b[0m\u001b[1;36m32\u001b[0m\u001b[1;33m,\u001b[0m \u001b[0mlen\u001b[0m\u001b[1;33m(\u001b[0m\u001b[0margs\u001b[0m\u001b[1;33m)\u001b[0m\u001b[1;33m,\u001b[0m \u001b[1;36m31\u001b[0m\u001b[1;33m)\u001b[0m\u001b[1;33m:\u001b[0m\u001b[1;33m\u001b[0m\u001b[0m\n",
      "\u001b[1;31mValueError\u001b[0m: shape mismatch: objects cannot be broadcast to a single shape"
     ]
    },
    {
     "data": {
      "image/png": "[encoded data removed]",
      "text/plain": [
       "<Figure size 432x288 with 1 Axes>"
      ]
     },
     "metadata": {},
     "output_type": "display_data"
    }
   ],
   "source": [
    "from Bio import SeqIO\n",
    "from Bio.Align import MultipleSeqAlignment\n",
    "from Bio.SeqRecord import SeqRecord\n",
    "from Bio import Phylo\n",
    "from io import StringIO\n",
    "import matplotlib.pyplot as plt\n",
    "import matplotlib as mpl\n",
    "import numpy as np\n",
    "import pandas as pd\n",
    "fig3= plt.bar(height= at3, x= xvals)\n",
    "plt.bar(height= gc3, x= xvals, bottom = 1)"
   ]
  },
  {
   "cell_type": "code",
   "execution_count": null,
   "metadata": {},
   "outputs": [],
   "source": [
    "from Bio import SeqIO\n",
    "from Bio.Align import MultipleSeqAlignment\n",
    "from Bio.SeqRecord import SeqRecord\n",
    "from Bio import Phylo\n",
    "from io import StringIO\n",
    "import matplotlib.pyplot as plt\n",
    "import matplotlib as mpl\n",
    "import numpy as np\n",
    "import pandas as pd\n",
    "fig4= plt.bar(height= at4, x= xvals)\n",
    "plt.bar(height= gc4, x= xvals, bottom = 1)"
   ]
  },
  {
   "cell_type": "code",
   "execution_count": null,
   "metadata": {},
   "outputs": [],
   "source": [
    "from Bio import SeqIO\n",
    "from Bio.Align import MultipleSeqAlignment\n",
    "from Bio.SeqRecord import SeqRecord\n",
    "from Bio import Phylo\n",
    "from io import StringIO\n",
    "import matplotlib.pyplot as plt\n",
    "import matplotlib as mpl\n",
    "import numpy as np\n",
    "import pandas as pd\n",
    "fig5= plt.bar(height= at5, x= xvals)\n",
    "plt.bar(height= gc5, x= xvals, bottom = 1)"
   ]
  },
  {
   "cell_type": "code",
   "execution_count": null,
   "metadata": {},
   "outputs": [],
   "source": [
    "from Bio import SeqIO\n",
    "from Bio.Align import MultipleSeqAlignment\n",
    "from Bio.SeqRecord import SeqRecord\n",
    "from Bio import Phylo\n",
    "from io import StringIO\n",
    "import matplotlib.pyplot as plt\n",
    "import matplotlib as mpl\n",
    "import numpy as np\n",
    "import pandas as pd\n",
    "fig6= plt.bar(height= at6, x= xvals)\n",
    "plt.bar(height= gc6, x= xvals, bottom = 1)"
   ]
  },
  {
   "cell_type": "code",
   "execution_count": null,
   "metadata": {},
   "outputs": [],
   "source": [
    "from Bio import SeqIO\n",
    "from Bio.Align import MultipleSeqAlignment\n",
    "from Bio.SeqRecord import SeqRecord\n",
    "from Bio import Phylo\n",
    "from io import StringIO\n",
    "import matplotlib.pyplot as plt\n",
    "import matplotlib as mpl\n",
    "import numpy as np\n",
    "import pandas as pd\n",
    "fig7= plt.bar(height= at7, x= xvals)\n",
    "plt.bar(height= gc7, x= xvals, bottom = 1)"
   ]
  },
  {
   "cell_type": "code",
   "execution_count": null,
   "metadata": {},
   "outputs": [],
   "source": [
    "from Bio import SeqIO\n",
    "from Bio.Align import MultipleSeqAlignment\n",
    "from Bio.SeqRecord import SeqRecord\n",
    "from Bio import Phylo\n",
    "from io import StringIO\n",
    "import matplotlib.pyplot as plt\n",
    "import matplotlib as mpl\n",
    "import numpy as np\n",
    "import pandas as pd\n",
    "fig8= plt.bar(height= at8, x= xvals)\n",
    "plt.bar(height= gc8, x= xvals, bottom = 1)"
   ]
  }
 ],
 "metadata": {
  "kernelspec": {
   "display_name": "Python 3",
   "language": "python",
   "name": "python3"
  },
  "language_info": {
   "codemirror_mode": {
    "name": "ipython",
    "version": 3
   },
   "file_extension": ".py",
   "mimetype": "text/x-python",
   "name": "python",
   "nbconvert_exporter": "python",
   "pygments_lexer": "ipython3",
   "version": "3.6.5"
  }
 },
 "nbformat": 4,
 "nbformat_minor": 2
}
