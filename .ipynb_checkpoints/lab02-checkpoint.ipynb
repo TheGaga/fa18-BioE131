{
 "cells": [
  {
   "cell_type": "markdown",
   "metadata": {},
   "source": [
    "### Summary of the Terminal commands used ###\n",
    "\n",
    "__mkdir lab02__: make directory named lab02  \n",
    "__cd lab02__: change directory to new lab02 directory  \n",
    "__mkdir src__: make directory src (source code)  \n",
    "__mkdir data__: make directory data (to store data)  \n",
    "__cd data__: enter data directory  \n",
    "#### used jupyter notebook to upload seqs.fasta####\n",
    "__muscle -in seqs.fa -out seqs.aligned.fa__ : call muscle command given seqs.fa as input; output the aligned version of the sequences as seqs.aligned.fa  \n",
    "__more seqs.fa__ & __more seqs.aligned.fa__ : 2 separate commands to view differences between input and output files  \n",
    "__fasttree –nt seqs.aligned.fa > tree.nwk__ : generate a newick-formatted tree\n",
    " \n"
   ]
  },
  {
   "cell_type": "code",
   "execution_count": null,
   "metadata": {},
   "outputs": [],
   "source": [
    "from Bio import phylo\n",
    "from io import StringIO\n",
    "import matplotlib.pyplot as plt\n",
    "import numpy as np\n",
    "import pandas as pd\n",
    "%matplotlib inline\n",
    "\n",
    "tree = Phylo.read(tree.nwk, \"newick\")\n",
    "Phylo.draw(tree)\n",
    "\n",
    "\n"
   ]
  }
 ],
 "metadata": {
  "kernelspec": {
   "display_name": "Python 3",
   "language": "python",
   "name": "python3"
  },
  "language_info": {
   "codemirror_mode": {
    "name": "ipython",
    "version": 3
   },
   "file_extension": ".py",
   "mimetype": "text/x-python",
   "name": "python",
   "nbconvert_exporter": "python",
   "pygments_lexer": "ipython3",
   "version": "3.6.5"
  }
 },
 "nbformat": 4,
 "nbformat_minor": 2
}
