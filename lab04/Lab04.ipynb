{
 "cells": [
  {
   "cell_type": "markdown",
   "metadata": {},
   "source": [
    "## Procedural Notes  \n",
    "\n",
    "### Enzyme/Pathway Selection  \n",
    "Kegg glycolysis/Glucogenesis-Reference Pathway:  \n",
    "\n",
    "Enzymes selected for each pathway are:  \n",
    "Glycolysis: K00844, K11645, K01689, K16370  \n",
    "Citric Acid Cyce: K01647, K00030, K01900, K00116  \n",
    "Pentose Phosphate Pathway: K13937, K00036, K01807, K06859  \n",
    "\n"
   ]
  },
  {
   "cell_type": "code",
   "execution_count": 1,
   "metadata": {},
   "outputs": [],
   "source": [
    "import sqlite3\n",
    "conn = sqlite3.connect('my.db')\n",
    "c = conn.cursor()\n",
    "\n",
    "c.execute(\"\"\"DROP TABLE genes\"\"\")\n",
    "c.execute(\"\"\"DROP TABLE pathways\"\"\")\n",
    "c.execute(\"\"\"DROP TABLE enzymes\"\"\")\n",
    "\n",
    "c.execute(\"\"\"CREATE TABLE genes (id INT PRIMARY KEY ASC, name TEXT, description TEXT, organism TEXT, nucleotide_sequence TEXT\n",
    "chromosome TEXT, start INT, end INT, strand VARCHAR(1), translated_sequence TEXT);\"\"\")\n",
    "\n",
    "c.execute(\"\"\"CREATE TABLE pathways (id INT PRIMARY KEY ASC, name TEXT, description TEXT);\"\"\")\n",
    "\n",
    "c.execute(\"\"\"CREATE TABLE enzymes (id INT PRIMARY KEY ASC, name TEXT, function TEXT, ec_number INT);\"\"\")\n",
    "\n",
    "conn.commit()\n"
   ]
  },
  {
   "cell_type": "markdown",
   "metadata": {},
   "source": [
    "### Query the name and ec_number of the selected Enzymes from KEGG\n",
    "1. Make a sample.list file in the current directory with the following lines  \n",
    "K00844   \n",
    "K11645   \n",
    "K01689  \n",
    "K16370  \n",
    "K01647  \n",
    "K00030  \n",
    "K01900  \n",
    "K00116  \n",
    "K13937  \n",
    "K00036  \n",
    "K01807  \n",
    "K06859  \n",
    "\n",
    "2. In the terminal execute: `curl -g -s -S http://rest.kegg.jp/list/ko | grep -f sample.list | sed \"s/cpd\\://\" > sample_extracted.table.txt`\n",
    "\n",
    "3. Inspect the output file sample_extracted.table.txt  \n",
    "ko:K00030\tIDH3; isocitrate dehydrogenase (NAD+) [EC:1.1.1.41]  \n",
    "ko:K00036\tG6PD, zwf; glucose-6-phosphate 1-dehydrogenase [EC:1.1.1.49 1.1.1.363]  \n",
    "ko:K00116\tmqo; malate dehydrogenase (quinone) [EC:1.1.5.4]  \n",
    "ko:K00844\tHK; hexokinase [EC:2.7.1.1]  \n",
    "ko:K01647\tCS, gltA; citrate synthase [EC:2.3.3.1]  \n",
    "ko:K01689\tENO, eno; enolase [EC:4.2.1.11]  \n",
    "ko:K01807\trpiA; ribose 5-phosphate isomerase A [EC:5.3.1.6]  \n",
    "ko:K01900\tLSC2; succinyl-CoA synthetase beta subunit [EC:6.2.1.4 6.2.1.5]  \n",
    "ko:K06859\tpgi1; glucose-6-phosphate isomerase, archaeal [EC:5.3.1.9]  \n",
    "ko:K11645\tfbaB; fructose-bisphosphate aldolase, class I [EC:4.1.2.13]  \n",
    "ko:K13937\tH6PD; hexose-6-phosphate dehydrogenase [EC:1.1.1.47 3.1.1.31]  \n",
    "ko:K16370\tpfkB; 6-phosphofructokinase 2 [EC:2.7.1.11]  \n"
   ]
  },
  {
   "cell_type": "code",
   "execution_count": 13,
   "metadata": {},
   "outputs": [
    {
     "name": "stdout",
     "output_type": "stream",
     "text": [
      "DictElement({'Count': '303', 'RetMax': '20', 'RetStart': '0', 'IdList': ['L44140.1', 'KJ896841.1', 'S64462.1', 'S58359.1', 'NM_000402.4', 'NM_001360016.1', 'NM_001042351.2', 'AB376963.1', 'X55448.1', 'DQ173568.1', 'DQ839546.1', 'DQ832766.1', 'M12996.1', 'MG772799.1', 'DQ173642.1', 'DQ173641.1', 'DQ173640.1', 'DQ173639.1', 'DQ173638.1', 'DQ173637.1'], 'TranslationSet': [DictElement({'From': 'homo sapiens[ORGN]', 'To': '\"Homo sapiens\"[Organism]'}, attributes={})], 'TranslationStack': [DictElement({'Term': '\"Homo sapiens\"[Organism]', 'Field': 'Organism', 'Count': '16629335', 'Explode': 'Y'}, attributes={}), DictElement({'Term': 'G6PD[All Fields]', 'Field': 'All Fields', 'Count': '41938', 'Explode': 'N'}, attributes={}), 'AND'], 'QueryTranslation': '\"Homo sapiens\"[Organism] AND G6PD[All Fields]'}, attributes={})\n",
      ">KJ896841.1 Synthetic construct Homo sapiens clone ccsbBroadEn_06235 G6PD gene, encodes complete protein\n",
      "GTTCGTTGCAACAAATTGATGAGCAATGCTTTTTTATAATGCCAACTTTGTACAAAAAAGTTGGCATGGC\n",
      "AGAGCAGGTGGCCCTGAGCCGGACCCAGGTGTGCGGGATCCTGCGGGAAGAGCTTTTCCAGGGCGATGCC\n",
      "TTCCATCAGTCGGATACACACATATTCATCATCATGGGTGCATCGGGTGACCTGGCCAAGAAGAAGATCT\n",
      "ACCCCACCATCTGGTGGCTGTTCCGGGATGGCCTTCTGCCCGAAAACACCTTCATCGTGGGCTATGCCCG\n",
      "TTCCCGCCTCACAGTGGCTGACATCCGCAAACAGAGTGAGCCCTTCTTCAAGGCCACCCCAGAGGAGAAG\n",
      "CTCAAGCTGGAGGACTTCTTTGCCCGCAACTCCTATGTGGCTGGCCAGTACGATGATGCAGCCTCCTACC\n",
      "AGCGCCTCAACAGCCACATGAATGCCCTCCACCTGGGGTCACAGGCCAACCGCCTCTTCTACCTGGCCTT\n",
      "GCCCCCGACCGTCTACGAGGCCGTCACCAAGAACATTCACGAGTCCTGCATGAGCCAGATAGGCTGGAAC\n",
      "CGCATCATCGTGGAGAAGCCCTTCGGGAGGGACCTGCAGAGCTCTGACCGGCTGTCCAACCACATCTCCT\n",
      "CCCTGTTCCGTGAGGACCAGATCTACCGCATCGACCACTACCTGGGCAAGGAGATGGTGCAGAACCTCAT\n",
      "GGTGCTGAGATTTGCCAACAGGATCTTCGGCCCCATCTGGAACCGGGACAACATCGCCTGCGTTATCCTC\n",
      "ACCTTCAAGGAGCCCTTTGGCACTGAGGGTCGCGGGGGCTATTTCGATGAATTTGGGATCATCCGGGACG\n",
      "TGATGCAGAACCACCTACTGCAGATGCTGTGTCTGGTGGCCATGGAGAAGCCCGCCTCCACCAACTCAGA\n",
      "TGACGTCCGTGATGAGAAGGTCAAGGTGTTGAAATGCATCTCAGAGGTGCAGGCCAACAATGTGGTCCTG\n",
      "GGCCAGTACGTGGGGAACCCCGATGGAGAGGGCGAGGCCACCAAAGGGTACCTGGACGACCCCACGGTGC\n",
      "CCCGCGGGTCCACCACCGCCACTTTTGCAGCCGTCGTCCTCTATGTGGAGAATGAGAGGTGGGATGGGGT\n",
      "GCCCTTCATCCTGCGCTGCGGCAAGGCCCTGAACGAGCGCAAGGCCGAGGTGAGGCTGCAGTTCCATGAT\n",
      "GTGGCCGGCGACATCTTCCACCAGCAGTGCAAGCGCAACGAGCTGGTGATCCGCGTGCAGCCCAACGAGG\n",
      "CCGTGTACACCAAGATGATGACCAAGAAGCCGGGCATGTTCTTCAACCCCGAGGAGTCGGAGCTGGACCT\n",
      "GACCTACGGCAACAGATACAAGAACGTGAAGCTCCCTGACGCCTATGAGCGCCTCATCCTGGACGTCTTC\n",
      "TGCGGGAGCCAGATGCACTTCGTGCGCAGCGACGAGCTCCGTGAGGCCTGGCGTATTTTCACCCCACTGC\n",
      "TGCACCAGATTGAGCTGGAGAAGCCCAAGCCCATCCCCTATATTTATGGCAGCCGAGGCCCCACGGAGGC\n",
      "AGACGAGCTGATGAAGAGAGTGGGTTTCCAGTATGAGGGCACCTACAAGTGGGTGAACCCCCACAAGCTC\n",
      "TGCCCAACTTTCTTGTACAAAGTTGGCATTATAAGAAAGCATTGCTTATCAATTTGTTGCAACGAAC\n",
      "\n",
      "\n"
     ]
    }
   ],
   "source": [
    "from Bio import Entrez\n",
    "#Entrez.esearch(db,term, sort)\n",
    "#Entrez.efetch(db, id, rettype, retmode)\n",
    "#for enzymes and genes only; Entrez doesn't have pathway info\n",
    "\n",
    "\n",
    "\n",
    "\n",
    "Entrez.email = 'ych323@berkeley.edu'\n",
    "handle = Entrez.esearch(db = 'nucleotide',\n",
    "                       term = 'homo sapiens[ORGN] G6PD',\n",
    "                       sort= 'relevance',\n",
    "                       idtype= 'acc')\n",
    "\n",
    "fetched_dict = Entrez.read(handle)\n",
    "print(fetched_dict)\n",
    "\n",
    "handle = Entrez.efetch(db = 'nucleotide', id = fetched_dict[\"IdList\"][1], rettype = 'fasta', retmode = 'text')\n",
    "print(handle.read())\n",
    "# TODO: Make a function to iterate through the query\n",
    "# for i in Entrez.read(handle)[\"IdList\"]:\n",
    "#     handle = Entrez.efetch(db = 'nucleotide', id = i, rettype = 'fasta', retmode = 'text')\n",
    "#     print(handle.read())"
   ]
  },
  {
   "cell_type": "code",
   "execution_count": null,
   "metadata": {},
   "outputs": [],
   "source": []
  }
 ],
 "metadata": {
  "kernelspec": {
   "display_name": "Python 3",
   "language": "python",
   "name": "python3"
  },
  "language_info": {
   "codemirror_mode": {
    "name": "ipython",
    "version": 3
   },
   "file_extension": ".py",
   "mimetype": "text/x-python",
   "name": "python",
   "nbconvert_exporter": "python",
   "pygments_lexer": "ipython3",
   "version": "3.6.5"
  }
 },
 "nbformat": 4,
 "nbformat_minor": 2
}
