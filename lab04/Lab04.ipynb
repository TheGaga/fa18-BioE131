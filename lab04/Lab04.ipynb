{
 "cells": [
  {
   "cell_type": "markdown",
   "metadata": {},
   "source": [
    "## Procedural Notes  \n",
    "\n",
    "### Enzyme/Pathway Selection  \n",
    "Kegg glycolysis/Glucogenesis-Reference Pathway:  \n",
    "\n",
    "Enzymes selected for each pathway are:  \n",
    "Glycolysis: K00844, K11645, K01689, K16370  \n",
    "Citric Acid Cyce: K01647, K00030, K01900, K00116  \n",
    "Pentose Phosphate Pathway: K13937, K00036, K01807, K06859  \n",
    "\n"
   ]
  },
  {
   "cell_type": "code",
   "execution_count": 11,
   "metadata": {},
   "outputs": [],
   "source": [
    "import sqlite3\n",
    "conn = sqlite3.connect('my.db')\n",
    "c = conn.cursor()\n",
    "\n",
    "c.execute(\"\"\"DROP TABLE genes\"\"\")\n",
    "c.execute(\"\"\"DROP TABLE pathways\"\"\")\n",
    "c.execute(\"\"\"DROP TABLE enzymes\"\"\")\n",
    "\n",
    "c.execute(\"\"\"CREATE TABLE genes (id INT PRIMARY KEY ASC, name TEXT, description TEXT, organism TEXT, nucleotide_sequence TEXT\n",
    "chromosome TEXT, start INT, end INT, strand VARCHAR(1), translated_sequence TEXT);\"\"\")\n",
    "\n",
    "c.execute(\"\"\"CREATE TABLE pathways (id INT PRIMARY KEY ASC, name TEXT, description TEXT);\"\"\")\n",
    "\n",
    "c.execute(\"\"\"CREATE TABLE enzymes (id INT PRIMARY KEY ASC, name TEXT, function TEXT, ec_number INT);\"\"\")\n",
    "\n",
    "conn.commit()\n"
   ]
  },
  {
   "cell_type": "code",
   "execution_count": 13,
   "metadata": {},
   "outputs": [
    {
     "ename": "ModuleNotFoundError",
     "evalue": "No module named 'Bio'",
     "output_type": "error",
     "traceback": [
      "\u001b[1;31m---------------------------------------------------------------------------\u001b[0m",
      "\u001b[1;31mModuleNotFoundError\u001b[0m                       Traceback (most recent call last)",
      "\u001b[1;32m<ipython-input-13-a04be170fdd0>\u001b[0m in \u001b[0;36m<module>\u001b[1;34m()\u001b[0m\n\u001b[1;32m----> 1\u001b[1;33m \u001b[1;32mfrom\u001b[0m \u001b[0mBio\u001b[0m \u001b[1;32mimport\u001b[0m \u001b[0mEntrez\u001b[0m\u001b[1;33m\u001b[0m\u001b[0m\n\u001b[0m\u001b[0;32m      2\u001b[0m \u001b[1;31m#Entrez.esearch(db,term, sort)\u001b[0m\u001b[1;33m\u001b[0m\u001b[1;33m\u001b[0m\u001b[0m\n\u001b[0;32m      3\u001b[0m \u001b[1;31m#Entrez.efetch(db, id, rettype, retmode)\u001b[0m\u001b[1;33m\u001b[0m\u001b[1;33m\u001b[0m\u001b[0m\n\u001b[0;32m      4\u001b[0m \u001b[1;31m#for enzymes and genes only; Entrez doesn't have pathway info\u001b[0m\u001b[1;33m\u001b[0m\u001b[1;33m\u001b[0m\u001b[0m\n\u001b[0;32m      5\u001b[0m \u001b[1;33m\u001b[0m\u001b[0m\n",
      "\u001b[1;31mModuleNotFoundError\u001b[0m: No module named 'Bio'"
     ]
    }
   ],
   "source": [
    "from Bio import Entrez\n",
    "#Entrez.esearch(db,term, sort)\n",
    "#Entrez.efetch(db, id, rettype, retmode)\n",
    "#for enzymes and genes only; Entrez doesn't have pathway info\n",
    "\n",
    "handle = Entrez.esearch(db = 'protein',\n",
    "                       term = 'K00844',\n",
    "                       sort= 'relevance',\n",
    "                       idtype= 'acc')\n",
    "\n",
    "for i in Entrez.read(handle)['IDList']:\n",
    "    handle = Entrez.efetch(db = 'protein', id = i, rettype = 'fasta', retmode = 'text')\n",
    "    print(handle.read())"
   ]
  },
  {
   "cell_type": "code",
   "execution_count": null,
   "metadata": {},
   "outputs": [],
   "source": []
  }
 ],
 "metadata": {
  "kernelspec": {
   "display_name": "Python 3",
   "language": "python",
   "name": "python3"
  },
  "language_info": {
   "codemirror_mode": {
    "name": "ipython",
    "version": 3
   },
   "file_extension": ".py",
   "mimetype": "text/x-python",
   "name": "python",
   "nbconvert_exporter": "python",
   "pygments_lexer": "ipython3",
   "version": "3.6.5"
  }
 },
 "nbformat": 4,
 "nbformat_minor": 2
}
