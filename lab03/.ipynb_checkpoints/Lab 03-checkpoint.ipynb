{
 "cells": [
  {
   "cell_type": "markdown",
   "metadata": {},
   "source": [
    "# Lab03: Shakespeare by the numbers: statistics of word\n",
    "- Changhua Yu Paulameena Pshultes"
   ]
  },
  {
   "cell_type": "code",
   "execution_count": 1,
   "metadata": {},
   "outputs": [],
   "source": [
    "# Parse in the text file\n",
    "infile = open(\"romeoandjuliet.txt\")"
   ]
  },
  {
   "cell_type": "code",
   "execution_count": 2,
   "metadata": {},
   "outputs": [],
   "source": [
    "'''\n",
    "create a word count dictionary  with each unique word as key\n",
    "caution: remove the punctuation and turn all word to lowercase for counting\n",
    "'''\n",
    "wordcount={}\n",
    "for line in infile:\n",
    "    for char in \"[]\\n,.-?;:!'()\":\n",
    "        line = line.replace(char, '')\n",
    "        line = line.lower()\n",
    "    splitline = line.split()\n",
    "    for word in splitline:\n",
    "        if word in wordcount.keys():\n",
    "            wordcount[word] += 1\n",
    "        else:\n",
    "            wordcount[word] = 1\n",
    "    #print(splitline)\n",
    "#print(wordcount)"
   ]
  },
  {
   "cell_type": "code",
   "execution_count": null,
<<<<<<< HEAD
   "metadata": {
    "scrolled": true
   },
   "outputs": [],
   "source": []
  },
  {
   "cell_type": "code",
   "execution_count": 3,
=======
>>>>>>> 2328f2ce4241bf2ba56c3532f524c6895e6e36bc
   "metadata": {},
   "outputs": [
    {
     "name": "stdout",
     "output_type": "stream",
     "text": [
<<<<<<< HEAD
      "{'the': 680, 'tragedy': 1, 'of': 401, 'romeo': 137, 'and': 713, 'juliet': 59, 'by': 109, 'william': 1, 'shakespeare': 1, 'dramatis': 1}\n",
      "True\n"
     ]
    }
   ],
   "source": [
    "'''\n",
    "Sanity Check on the wordcount output\n",
    "'''\n",
    "# A peek of the dictionary content\n",
    "print(dict(list(wordcount.items())[0:10]))\n",
    "\n",
    "# regex search for the word check\n",
    "import re\n",
    "p = re.compile(r'[a-zA-Z0-9\"]+')\n",
    "boo_dict = {}\n",
    "for word in wordcount.keys():\n",
    "    #print(word)\n",
    "    m = p.match(word)\n",
    "    boo = m.group() == word\n",
    "    boo_dict[word] = boo\n",
    "\n",
    "print(all(boo_dict.values()))"
   ]
  },
  {
   "cell_type": "code",
   "execution_count": 10,
   "metadata": {},
   "outputs": [
    {
     "data": {
      "text/plain": [
       "Text(0.5,0,'assigned ordered rank for words')"
      ]
     },
     "execution_count": 10,
     "metadata": {},
     "output_type": "execute_result"
    },
    {
     "data": {
      "image/png": "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\n",
      "text/plain": [
       "<Figure size 432x288 with 1 Axes>"
      ]
     },
     "metadata": {},
     "output_type": "display_data"
    }
   ],
=======
      "4013\n"
     ]
    }
   ],
>>>>>>> 2328f2ce4241bf2ba56c3532f524c6895e6e36bc
   "source": [
    "import matplotlib as mpl\n",
    "import matplotlib.pyplot as plt\n",
    "import numpy as np\n",
    "import pandas as pd\n",
    "%matplotlib inline\n",
    "\n",
<<<<<<< HEAD
    "\n",
    "# Acorrding to GSI's instruction, we will plot the scatter plot with the dictionary default order instead of \n",
    "# a barplot with word as x-axis label\n",
    "xdata= list(wordcount.keys())\n",
    "# assign a number order for each word\n",
    "xdata2 = list(range(1,len(wordcount)+1))\n",
    "# print(len(xdata))\n",
    "# print(len(xdata2))\n",
    "# Get the count of each word\n",
    "counts = list(wordcount.values())\n",
    "\n",
    "fig1= plt.figure()\n",
    "ax = fig1.add_subplot(111)\n",
    "bar1 = ax.scatter(xdata2, counts)\n",
    "plt.ylabel('frequency couont')\n",
    "plt.xlabel('assigned ordered rank for words')"
=======
    "fig1= plt.figure()\n",
    "ax = fig1.add_subplot(111)\n",
    "xdata= list(wordcount.keys())\n",
    "print(len(xdata))\n",
    "#print(xdata)\n",
    "counts = list(wordcount.values())\n",
    "#print(counts)\n",
    "bar1 = ax.bar(height = counts, x = xdata)"
>>>>>>> 2328f2ce4241bf2ba56c3532f524c6895e6e36bc
   ]
  },
  {
   "cell_type": "code",
   "execution_count": 11,
   "metadata": {},
   "outputs": [
    {
     "name": "stdout",
     "output_type": "stream",
     "text": [
      "the most ten\n",
      "and:713\n",
      "the:680\n",
      "i:585\n",
      "to:541\n",
      "a:468\n",
      "of:401\n",
      "my:360\n",
      "that:347\n",
      "is:344\n",
      "in:319\n",
      "\n",
      "\n",
      "The least ten\n",
      "jointure:1\n",
      "demand:1\n",
      "statue:1\n",
      "whiles:1\n",
      "figure:1\n",
      "sacrifices:1\n",
      "glooming:1\n",
      "pardond:1\n",
      "punished:1\n",
      "omnes:1\n"
     ]
    }
   ],
   "source": [
    "#Sort the dictionary with decreasing order\n",
    "sorted_keys = sorted(wordcount, key = wordcount.get, reverse = True)\n",
    "sorted_vals = []\n",
    "for word in sorted_keys:\n",
    "    sorted_vals.append(wordcount[word])\n",
    "\n",
    "\n",
    "# inspect the ten most frequenct words\n",
    "print(\"the most ten\")\n",
    "for i in range(10):\n",
    "    print(sorted_keys[i] + \":\" + str(sorted_vals[i]))\n",
    "print(\"\\n\")\n",
    "print(\"The least ten\")\n",
    "for i in range(len(sorted_keys)-10,len(sorted_keys)):\n",
    "    print(sorted_keys[i] + \":\" + str(sorted_vals[i]))"
   ]
  },
  {
   "cell_type": "code",
   "execution_count": 15,
   "metadata": {},
   "outputs": [
    {
     "data": {
      "image/png": "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\n",
      "text/plain": [
       "<Figure size 432x288 with 1 Axes>"
      ]
     },
     "metadata": {},
     "output_type": "display_data"
    }
   ],
   "source": [
    "import matplotlib as mpl\n",
    "import matplotlib.pyplot as plt\n",
    "import numpy as np\n",
    "import pandas as pd\n",
    "from math import exp, expm1\n",
    "%matplotlib inline\n",
    "# Bonus question\n",
    "\n",
    "\n",
    "xdata3 = list(range(1,len(sorted_keys)+1))\n",
    "xdata_log = [log10(rank) for rank in xdata3]\n",
    "ydata_log = [log10(count) for count in sorted_vals]\n",
    "\n",
    "\n",
    "plt.scatter(xdata_log, ydata_log, alpha=0.5)\n",
    "plt.xlabel(\"log10 rank\")\n",
    "plt.ylabel(\"log10 count\")\n",
    "plt.show()"
   ]
  },
  {
   "cell_type": "code",
   "execution_count": null,
   "metadata": {},
   "outputs": [],
   "source": []
  },
  {
   "cell_type": "code",
   "execution_count": null,
   "metadata": {},
   "outputs": [],
   "source": [
    "import matplotlib as mpl\n",
    "import matplotlib.pyplot as plt\n",
    "import numpy as np\n",
    "import pandas as pd\n",
    "%matplotlib inline\n",
    "sorted_keys = sorted(wordcount, key = wordcount.get, reverse = True)\n",
    "sorted_vals = []\n",
    "for word in sorted_keys:\n",
    "    sorted_vals.append(wordcount[word])\n",
    "\n",
    "fig2 = plt.figure()\n",
    "ax2 = fig2.add_subplot(111)\n",
    "xdata2 = list(sorted_keys)\n",
    "ydata = sorted_vals\n",
    "bar2 = ax2.bar(height = ydata, x = xdata2)"
   ]
  },
  {
   "cell_type": "code",
   "execution_count": null,
   "metadata": {},
   "outputs": [],
   "source": []
  }
 ],
 "metadata": {
  "kernelspec": {
   "display_name": "Python 3",
   "language": "python",
   "name": "python3"
  },
  "language_info": {
   "codemirror_mode": {
    "name": "ipython",
    "version": 3
   },
   "file_extension": ".py",
   "mimetype": "text/x-python",
   "name": "python",
   "nbconvert_exporter": "python",
   "pygments_lexer": "ipython3",
   "version": "3.6.5"
  }
 },
 "nbformat": 4,
 "nbformat_minor": 2
}
