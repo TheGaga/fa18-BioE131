{
 "cells": [
  {
   "cell_type": "code",
   "execution_count": null,
   "metadata": {},
   "outputs": [],
   "source": [
    "infile = open(\"romeoandjuliet.txt\")\n"
   ]
  },
  {
   "cell_type": "code",
   "execution_count": null,
   "metadata": {},
   "outputs": [],
   "source": [
    "wordcount={}\n",
    "for line in infile:\n",
    "    for char in \"[]\\n,.-?!'()\":\n",
    "        line = line.replace(char, '')\n",
    "        line = line.lower()\n",
    "    splitline = line.split()\n",
    "    for word in splitline:\n",
    "        if word in wordcount.keys():\n",
    "            wordcount[word] += 1\n",
    "        else:\n",
    "            wordcount[word] = 1\n",
    "    #print(splitline)\n",
    "#print(wordcount)"
   ]
  },
  {
   "cell_type": "code",
   "execution_count": null,
   "metadata": {},
   "outputs": [],
   "source": [
    "import matplotlib as mpl\n",
    "import matplotlib.pyplot as plt\n",
    "import numpy as np\n",
    "import pandas as pd\n",
    "%matplotlib inline\n",
    "fig1= plt.figure()\n",
    "ax = fig1.add_subplot(111)\n",
    "xdata= list(wordcount.keys())\n",
    "print(xdata)\n",
    "counts = list(wordcount.values())\n",
    "print(counts)\n",
    "bar1 = ax.bar(height = counts, x = xdata)"
   ]
  },
  {
   "cell_type": "code",
   "execution_count": null,
   "metadata": {},
   "outputs": [],
   "source": []
  }
 ],
 "metadata": {
  "kernelspec": {
   "display_name": "Python 3",
   "language": "python",
   "name": "python3"
  },
  "language_info": {
   "codemirror_mode": {
    "name": "ipython",
    "version": 3
   },
   "file_extension": ".py",
   "mimetype": "text/x-python",
   "name": "python",
   "nbconvert_exporter": "python",
   "pygments_lexer": "ipython3",
   "version": "3.6.5"
  }
 },
 "nbformat": 4,
 "nbformat_minor": 2
}
