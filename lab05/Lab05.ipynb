{
 "cells": [
  {
   "cell_type": "markdown",
   "metadata": {},
   "source": [
    "### Part 1: Generate Table of Riboswitch Data\n",
    "\n",
    "#### Access Sequences- Copying them manually from the paper figures, 5' to 3'\n",
    "Figure 2A: Yes-1:  \n",
    "GGGCGACCCUGAUGAGCUUGAGUUUAGCUCGUCACUGUCCAGGUUCAAUCAGGCGAAACGGUGAAAGCCGUAGGUUGCCC   \n",
    "\n",
    "Figure 4A: Not-1:  \n",
    "GGCAGGUACAUACAGCUGAUGAGUCCCAAAUAGGACGAAACGCGACACACACCACUAAACCGUGCAGUGUUUUGCGUCCUGUAUUCCACUGC  \n",
    "\n",
    "Figure 5A: And- 1:  \n",
    "GGGCGAACCUGAUGAGCUUGGUUUAGUAUUUACAGCUCCAUACAGGAGGUGUUAUCCCUAUGCAAGUUCGAUCAGGCGAAACGGUGAAAGCCGUAGGUUGGCCAGAGACAUA  \n",
    "\n",
    "Figure 6A: Or- 1:  \n",
    "GGGCGACCCUGAUGAGCUUGGUUGAGUAUUUACAGCUCCAUACAUGAGGUGUUCUCCCUACGCAAGUUCGAUCAGGCGAAACGGUGAAAGCCGUAGGUUGCCC\n",
    "\n",
    "#### Generate Summary table using sqlite package in jupyter notebook\n",
    "Note: -1 means that value doesn't exist for that sequence\n"
   ]
  },
  {
   "cell_type": "code",
   "execution_count": 5,
   "metadata": {},
   "outputs": [
    {
     "data": {
      "text/html": [
       "<div>\n",
       "<style scoped>\n",
       "    .dataframe tbody tr th:only-of-type {\n",
       "        vertical-align: middle;\n",
       "    }\n",
       "\n",
       "    .dataframe tbody tr th {\n",
       "        vertical-align: top;\n",
       "    }\n",
       "\n",
       "    .dataframe thead th {\n",
       "        text-align: right;\n",
       "    }\n",
       "</style>\n",
       "<table border=\"1\" class=\"dataframe\">\n",
       "  <thead>\n",
       "    <tr style=\"text-align: right;\">\n",
       "      <th></th>\n",
       "      <th>id</th>\n",
       "      <th>name</th>\n",
       "      <th>startObs1</th>\n",
       "      <th>endObs1</th>\n",
       "      <th>startObs2</th>\n",
       "      <th>endObs2</th>\n",
       "      <th>startRed1</th>\n",
       "      <th>endRed1</th>\n",
       "      <th>startRed2</th>\n",
       "      <th>endRed2</th>\n",
       "    </tr>\n",
       "  </thead>\n",
       "  <tbody>\n",
       "    <tr>\n",
       "      <th>0</th>\n",
       "      <td>1</td>\n",
       "      <td>YES-1</td>\n",
       "      <td>26</td>\n",
       "      <td>47</td>\n",
       "      <td>-1</td>\n",
       "      <td>-1</td>\n",
       "      <td>16</td>\n",
       "      <td>21</td>\n",
       "      <td>49</td>\n",
       "      <td>54</td>\n",
       "    </tr>\n",
       "    <tr>\n",
       "      <th>1</th>\n",
       "      <td>2</td>\n",
       "      <td>NOT-1</td>\n",
       "      <td>44</td>\n",
       "      <td>66</td>\n",
       "      <td>-1</td>\n",
       "      <td>-1</td>\n",
       "      <td>40</td>\n",
       "      <td>44</td>\n",
       "      <td>74</td>\n",
       "      <td>77</td>\n",
       "    </tr>\n",
       "    <tr>\n",
       "      <th>2</th>\n",
       "      <td>3</td>\n",
       "      <td>AND-1</td>\n",
       "      <td>30</td>\n",
       "      <td>45</td>\n",
       "      <td>49</td>\n",
       "      <td>64</td>\n",
       "      <td>16</td>\n",
       "      <td>23</td>\n",
       "      <td>70</td>\n",
       "      <td>77</td>\n",
       "    </tr>\n",
       "    <tr>\n",
       "      <th>3</th>\n",
       "      <td>4</td>\n",
       "      <td>OR-1</td>\n",
       "      <td>27</td>\n",
       "      <td>46</td>\n",
       "      <td>47</td>\n",
       "      <td>66</td>\n",
       "      <td>16</td>\n",
       "      <td>26</td>\n",
       "      <td>67</td>\n",
       "      <td>77</td>\n",
       "    </tr>\n",
       "  </tbody>\n",
       "</table>\n",
       "</div>"
      ],
      "text/plain": [
       "   id   name  startObs1  endObs1  startObs2  endObs2  startRed1  endRed1  \\\n",
       "0   1  YES-1         26       47         -1       -1         16       21   \n",
       "1   2  NOT-1         44       66         -1       -1         40       44   \n",
       "2   3  AND-1         30       45         49       64         16       23   \n",
       "3   4   OR-1         27       46         47       66         16       26   \n",
       "\n",
       "   startRed2  endRed2  \n",
       "0         49       54  \n",
       "1         74       77  \n",
       "2         70       77  \n",
       "3         67       77  "
      ]
     },
     "execution_count": 5,
     "metadata": {},
     "output_type": "execute_result"
    }
   ],
   "source": [
    "import sqlite3\n",
    "import pandas as pd\n",
    "conn = sqlite3.connect('my.db')\n",
    "c = conn.cursor()\n",
    "c.execute(\"\"\"DROP TABLE riboswitch\"\"\")\n",
    "c.execute(\"\"\"CREATE TABLE riboswitch (id INTEGER PRIMARY KEY, name TEXT, startObs1 INT, endObs1 INT, startObs2 INT, endObs2 INT, startRed1 INT, endRed1 INT, startRed2 INT, endRed2 INT);\"\"\")\n",
    "cmd = \"\"\"INSERT INTO riboswitch (name, startObs1, endObs1, startObs2, endObs2, startRed1, endRed1, startRed2, endRed2) VALUES(?,?,?,?,?,?,?,?,?)\"\"\"\n",
    "names = [\"YES-1\", \"NOT-1\", \"AND-1\", \"OR-1\"]\n",
    "startObs1= [26, 44, 30, 27]\n",
    "endObs1= [47, 66, 45, 46]\n",
    "startObs2= [-1, -1, 49, 47]\n",
    "endObs2 =[-1, -1, 64, 66]\n",
    "startRed1 = [16, 40, 16, 16]\n",
    "endRed1 = [21, 44, 23, 26]\n",
    "startRed2 = [49, 74, 70, 67]\n",
    "endRed2 =[54, 77, 77, 77]\n",
    "\n",
    "i = 0\n",
    "while i < len(names) :\n",
    "    temp_value = (names[i], startObs1[i], endObs1[i], startObs2[i], endObs2[i], startRed1[i], endRed1[i], startRed2[i], endRed2[i])\n",
    "    c.execute(cmd, temp_value)\n",
    "    i += 1\n",
    "    conn.commit()\n",
    "df2 = pd.read_sql_query(\"select * from riboswitch;\", conn)\n",
    "df2"
   ]
  },
  {
   "cell_type": "code",
   "execution_count": 2,
   "metadata": {},
   "outputs": [
    {
     "name": "stdout",
     "output_type": "stream",
     "text": [
      "80\n",
      "92\n",
      "112\n",
      "103\n"
     ]
    }
   ],
   "source": [
    "#Confirm sequence lengths match those in the paper\n",
    "Yes1 = \"GGGCGACCCUGAUGAGCUUGAGUUUAGCUCGUCACUGUCCAGGUUCAAUCAGGCGAAACGGUGAAAGCCGUAGGUUGCCC\"\n",
    "print(len(Yes1))\n",
    "Not1 = \"GGCAGGUACAUACAGCUGAUGAGUCCCAAAUAGGACGAAACGCGACACACACCACUAAACCGUGCAGUGUUUUGCGUCCUGUAUUCCACUGC\"\n",
    "print(len(Not1))\n",
    "And1 = \"GGGCGAACCUGAUGAGCUUGGUUUAGUAUUUACAGCUCCAUACAGGAGGUGUUAUCCCUAUGCAAGUUCGAUCAGGCGAAACGGUGAAAGCCGUAGGUUGGCCAGAGACAUA\"\n",
    "print(len(And1))\n",
    "Or1 = \"GGGCGACCCUGAUGAGCUUGGUUGAGUAUUUACAGCUCCAUACAUGAGGUGUUCUCCCUACGCAAGUUCGAUCAGGCGAAACGGUGAAAGCCGUAGGUUGCCC\"\n",
    "print(len(Or1))"
   ]
  },
  {
   "cell_type": "markdown",
   "metadata": {},
   "source": [
    "### Part 2: Run subprocess command to generate initial RNAfold plots"
   ]
  },
  {
   "cell_type": "code",
   "execution_count": 3,
   "metadata": {},
   "outputs": [
    {
     "name": "stdout",
     "output_type": "stream",
     "text": [
      ">seq1\n",
      "GGGCGACCCUGAUGAGCUUGAGUUUAGCUCGUCACUGUCCAGGUUCAAUCAGGCGAAACGGUGAAAGCCGUAGGUUGCCC\n",
      "((((((((.(((((((((.......))))))))).((.((.(((...))).))))..(((((....))))).)))))))) (-33.00)\n",
      ">seq2\n",
      "GGCAGGUACAUACAGCUGAUGAGUCCCAAAUAGGACGAAACGCGACACACACCACUAAACCGUGCAGUGUUUUGCGUCCUGUAUUCCACUGC\n",
      ".((((....((((((.......((((......))))...((((((.((((..(((......)))..)))).)))))).))))))....)))) (-28.10)\n",
      ">seq3\n",
      "GGGCGAACCUGAUGAGCUUGGUUUAGUAUUUACAGCUCCAUACAGGAGGUGUUAUCCCUAUGCAAGUUCGAUCAGGCGAAACGGUGAAAGCCGUAGGUUGGCCAGAGACAUA\n",
      ".(((.(((((((((((((((...(((.....(((.((((.....)))).))).....)))..))))))).))).......(((((....)))))))))).)))......... (-39.60)\n",
      ">seq4\n",
      "GGGCGACCCUGAUGAGCUUGGUUGAGUAUUUACAGCUCCAUACAUGAGGUGUUCUCCCUACGCAAGUUCGAUCAGGCGAAACGGUGAAAGCCGUAGGUUGCCC\n",
      "((((((((((((((((((((((.(((.....(((.(((.......))).))).)))...)).))))))).))))).....(((((....))))).)))))))) (-40.00)\n",
      "\n"
     ]
    }
   ],
   "source": [
    "import subprocess\n",
    "seqs = \"\"\">seq1\n",
    "GGGCGACCCUGAUGAGCUUGAGUUUAGCUCGUCACUGUCCAGGUUCAAUCAGGCGAAACGGUGAAAGCCGUAGGUUGCCC\n",
    ">seq2\n",
    "GGCAGGUACAUACAGCUGAUGAGUCCCAAAUAGGACGAAACGCGACACACACCACUAAACCGUGCAGUGUUUUGCGUCCUGUAUUCCACUGC\n",
    ">seq3\n",
    "GGGCGAACCUGAUGAGCUUGGUUUAGUAUUUACAGCUCCAUACAGGAGGUGUUAUCCCUAUGCAAGUUCGAUCAGGCGAAACGGUGAAAGCCGUAGGUUGGCCAGAGACAUA\n",
    ">seq4\n",
    "GGGCGACCCUGAUGAGCUUGGUUGAGUAUUUACAGCUCCAUACAUGAGGUGUUCUCCCUACGCAAGUUCGAUCAGGCGAAACGGUGAAAGCCGUAGGUUGCCC\n",
    ">@\"\"\"\n",
    "p = subprocess.run(['RNAfold'], input = bytes(seqs, 'ascii'), stdout=subprocess.PIPE, stderr= subprocess.PIPE)\n",
    "\n",
    "print(p.stdout.decode())"
   ]
  },
  {
   "cell_type": "code",
   "execution_count": 7,
   "metadata": {},
   "outputs": [
    {
     "ename": "SyntaxError",
     "evalue": "invalid syntax (<ipython-input-7-1cb61ab9c914>, line 2)",
     "output_type": "error",
     "traceback": [
      "\u001b[0;36m  File \u001b[0;32m\"<ipython-input-7-1cb61ab9c914>\"\u001b[0;36m, line \u001b[0;32m2\u001b[0m\n\u001b[0;31m    img1 = new Image(data = bytes(\"./seq1_ss.ps\"), format = 'png')\u001b[0m\n\u001b[0m                   ^\u001b[0m\n\u001b[0;31mSyntaxError\u001b[0m\u001b[0;31m:\u001b[0m invalid syntax\n"
     ]
    }
   ],
   "source": [
    "from IPython.display import Image\n",
    "img1 = new Image(data = bytes(\"./seq1_ss.ps\"), format = 'png')"
   ]
  },
  {
   "cell_type": "code",
   "execution_count": null,
   "metadata": {},
   "outputs": [],
   "source": []
  }
 ],
 "metadata": {
  "kernelspec": {
   "display_name": "Python 3",
   "language": "python",
   "name": "python3"
  },
  "language_info": {
   "codemirror_mode": {
    "name": "ipython",
    "version": 3
   },
   "file_extension": ".py",
   "mimetype": "text/x-python",
   "name": "python",
   "nbconvert_exporter": "python",
   "pygments_lexer": "ipython3",
   "version": "3.5.2"
  }
 },
 "nbformat": 4,
 "nbformat_minor": 2
}
